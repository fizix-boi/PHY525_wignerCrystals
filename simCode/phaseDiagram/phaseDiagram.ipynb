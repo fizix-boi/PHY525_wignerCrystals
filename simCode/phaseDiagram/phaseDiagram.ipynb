{
 "cells": [
  {
   "cell_type": "code",
   "execution_count": 1,
   "id": "850cef26",
   "metadata": {},
   "outputs": [],
   "source": [
    "import numpy as np\n",
    "import matplotlib\n",
    "import matplotlib.pyplot as plt"
   ]
  },
  {
   "cell_type": "code",
   "execution_count": 216,
   "id": "8290f8f2",
   "metadata": {},
   "outputs": [],
   "source": [
    "e = 1.602 * (1e-19)\n",
    "er = 1.057\n",
    "k = 1.380649 * (1e-23)\n",
    "e0 = 8.854187817 * (1e-12)\n",
    "c = 1.1061\n",
    "\n",
    "m = 9.11 * (1e-34)\n",
    "ab = 5.291772109 * (1e-11)\n",
    "hbar = 1.055 * (1e-34)\n",
    "\n",
    "def gamma(d):\n",
    "    res = 137\n",
    "    return(res)\n",
    "\n",
    "def TboundClass(n, d, delta):\n",
    "    preffactor = (1 / k) * ((e * e) / (4 * np.sqrt(np.pi) * er * e0)) * np.divide(np.sqrt(n), gamma(d))\n",
    "    radialComp = np.divide(1, np.power(1 + np.multiply((4 * np.pi * d * d / (c * c)), n), 3/2))\n",
    "    potentialForm = delta * radialComp\n",
    "    postfactor = (1 - potentialForm)\n",
    "    return(preffactor * postfactor)\n",
    "\n",
    "def Ef(n):\n",
    "    #derived from kF = sqrt(2 * pi * n)\n",
    "    #mu = kTln(exp(Ef/kT) - 1) ~ Ef for low T\n",
    "    return(np.multiply(hbar * hbar * np.pi / m, n))\n",
    "\n",
    "def TboundQuant(n, d, delta, rs):\n",
    "    ro = rs * ab\n",
    "    \n",
    "    #4 * np.pi * e0 * er is questionable\n",
    "    \n",
    "    V = (e * e / (4 * np.pi * e0 * er)) * ((1 / ro) - (delta / np.sqrt((ro * ro) + (4 * d * d))))\n",
    "    mainBod = np.subtract((V / gamma(d)), np.multiply(0.5, Ef(n)))\n",
    "    print((V / gamma(d)))\n",
    "    print(np.multiply(0.5, Ef(n)))\n",
    "    \n",
    "    return(np.divide(np.sqrt(np.multiply(12 * n / (np.pi * m), mainBod)), k) * hbar / 2)\n",
    "\n",
    "def densmax(d, delta, rs):\n",
    "    ro = rs * ab\n",
    "    V = (e * e / (4 * np.pi * e0 * er)) * ((1 / ro) - (delta / np.sqrt((ro * ro) + (4 * d * d))))\n",
    "    return((m / (np.pi * hbar * hbar)) * (2 * V / gamma(d)))\n",
    "\n",
    "def delt(esub):\n",
    "    return((esub - 1) / (esub + 1))"
   ]
  },
  {
   "cell_type": "code",
   "execution_count": 247,
   "id": "2afc5ba5",
   "metadata": {},
   "outputs": [
    {
     "name": "stdout",
     "output_type": "stream",
     "text": [
      "8.600064285555897e-22\n",
      "[1.91913895e-45 8.59929027e-27 1.71985805e-26 ... 8.59903229e-22\n",
      " 8.59911829e-22 8.59920428e-22]\n",
      "[7.25515221e-11 1.53575682e-01 2.17187726e-01 ... 5.31992457e-01\n",
      " 5.09348282e-01 4.85648947e-01]\n"
     ]
    }
   ],
   "source": [
    "d = 30 * (1e-10)\n",
    "delta = 0\n",
    "rs = 35\n",
    "\n",
    "n = np.linspace(1e-10,densmax(d, delta, rs) * (1 - 1e-4), num = 100000)\n",
    "\n",
    "#T = TboundClass(n, d, delta)\n",
    "T = TboundQuant(n, d, delta, rs)\n",
    "print(T)"
   ]
  },
  {
   "cell_type": "code",
   "execution_count": 248,
   "id": "69a8f99d",
   "metadata": {},
   "outputs": [
    {
     "data": {
      "text/plain": [
       "[<matplotlib.lines.Line2D at 0x214a9c3ebb0>]"
      ]
     },
     "execution_count": 248,
     "metadata": {},
     "output_type": "execute_result"
    },
    {
     "data": {
      "image/png": "[encoded data removed]",
      "text/plain": [
       "<Figure size 640x480 with 1 Axes>"
      ]
     },
     "metadata": {},
     "output_type": "display_data"
    }
   ],
   "source": [
    "plt.plot(n, T)"
   ]
  },
  {
   "cell_type": "code",
   "execution_count": 217,
   "id": "05929e38",
   "metadata": {},
   "outputs": [
    {
     "data": {
      "text/plain": [
       "31594603485089.56"
      ]
     },
     "execution_count": 217,
     "metadata": {},
     "output_type": "execute_result"
    }
   ],
   "source": []
  },
  {
   "cell_type": "code",
   "execution_count": 206,
   "id": "d98dc470",
   "metadata": {},
   "outputs": [
    {
     "name": "stdout",
     "output_type": "stream",
     "text": [
      "30.13601342696136\n",
      "8.581848486541803\n",
      "0.8969051615167071\n",
      "-3.798362755169803\n"
     ]
    }
   ],
   "source": [
    "Tc = ((2 * m * (e ** 4)) / (k * hbar * hbar * gamma(d) * gamma(d)))\n",
    "nc = ((4 * m * m * (e ** 4)) / (np.pi * (hbar ** 4) * gamma(d) * gamma(d)))\n",
    "\n",
    "#Tc /= ((4 * np.pi * e0 * er) ** 2)\n",
    "#nc /= ((4 * np.pi * e0 * er) ** 2)\n",
    "\n",
    "Tc /= k\n",
    "nc /= e0 ** 2\n",
    "\n",
    "print(Tc)\n",
    "print(np.log10(nc) - 4)\n",
    "\n",
    "print(Tc / 33.6)\n",
    "print(np.log10(nc) - 4 - np.log10(2.4 * 1e12))"
   ]
  },
  {
   "cell_type": "code",
   "execution_count": null,
   "id": "78b02a9d",
   "metadata": {},
   "outputs": [],
   "source": []
  }
 ],
 "metadata": {
  "kernelspec": {
   "display_name": "Python 3 (ipykernel)",
   "language": "python",
   "name": "python3"
  },
  "language_info": {
   "codemirror_mode": {
    "name": "ipython",
    "version": 3
   },
   "file_extension": ".py",
   "mimetype": "text/x-python",
   "name": "python",
   "nbconvert_exporter": "python",
   "pygments_lexer": "ipython3",
   "version": "3.9.13"
  }
 },
 "nbformat": 4,
 "nbformat_minor": 5
}
